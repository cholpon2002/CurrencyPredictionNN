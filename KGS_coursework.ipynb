{
  "nbformat": 4,
  "nbformat_minor": 0,
  "metadata": {
    "colab": {
      "provenance": [],
      "include_colab_link": true
    },
    "kernelspec": {
      "name": "python3",
      "display_name": "Python 3"
    },
    "language_info": {
      "name": "python"
    },
    "accelerator": "GPU",
    "gpuClass": "standard"
  },
  "cells": [
    {
      "cell_type": "markdown",
      "metadata": {
        "id": "view-in-github",
        "colab_type": "text"
      },
      "source": [
        "<a href=\"https://colab.research.google.com/github/cholpon2002/CurrencyPredictionNN/blob/main/KGS_coursework.ipynb\" target=\"_parent\"><img src=\"https://colab.research.google.com/assets/colab-badge.svg\" alt=\"Open In Colab\"/></a>"
      ]
    },
    {
      "cell_type": "code",
      "execution_count": null,
      "metadata": {
        "colab": {
          "base_uri": "https://localhost:8080/"
        },
        "id": "ZgETIqQ0ynAK",
        "outputId": "4947ddb0-1a25-4eb0-d580-b97bac393ba6"
      },
      "outputs": [
        {
          "output_type": "stream",
          "name": "stdout",
          "text": [
            "Mounted at /content/drive\n"
          ]
        }
      ],
      "source": [
        "import pandas as pd #для хранения таблиц данных и для работы с таблицами данных\n",
        "from google.colab import drive #чтобы получить доступ к файлам\n",
        "import matplotlib.pyplot as plt #для графиков\n",
        "\n",
        "# import collections \n",
        "import numpy as np \n",
        "from numpy import array\n",
        "import tensorflow as tf #библиотека для написания нейронных сетей\n",
        "from keras.layers import Dense, LSTM #слои\n",
        "#импортируем класс (модуль слоев), для того чтобы lstm, dense робили\n",
        "from sklearn.preprocessing import MinMaxScaler #для нормализации данных\n",
        "import math\n",
        "from keras.models import Sequential #слоистая модель \n",
        "plt.style.use('fivethirtyeight') # для красоты\n",
        "drive.mount('/content/drive') #для создания папки и допуск к ней"
      ]
    },
    {
      "cell_type": "code",
      "source": [
        "%cd /content/drive/My Drive/Colab Notebooks/"
      ],
      "metadata": {
        "colab": {
          "base_uri": "https://localhost:8080/"
        },
        "id": "moYoV4ovznii",
        "outputId": "376a3687-41a6-4a6b-deeb-92549092fa43"
      },
      "execution_count": null,
      "outputs": [
        {
          "output_type": "stream",
          "name": "stdout",
          "text": [
            "/content/drive/My Drive/Colab Notebooks\n"
          ]
        }
      ]
    },
    {
      "cell_type": "code",
      "source": [
        "df1 = pd.read_csv('./data/USD_KGS Historical Data.csv', parse_dates=['Date']) #читается с помощью Pandas\n",
        "df2 = pd.read_csv('./data/KGS_RUB Historical Data.csv')"
      ],
      "metadata": {
        "id": "8F3oO9Igy3Ca"
      },
      "execution_count": null,
      "outputs": []
    },
    {
      "cell_type": "code",
      "source": [
        "df1 = df1[::-1].reset_index(drop=True)"
      ],
      "metadata": {
        "id": "_In9zFrJkK_T"
      },
      "execution_count": null,
      "outputs": []
    },
    {
      "cell_type": "code",
      "source": [
        "df1"
      ],
      "metadata": {
        "colab": {
          "base_uri": "https://localhost:8080/",
          "height": 423
        },
        "id": "WcdJovfNzsX0",
        "outputId": "befddd34-6093-41c1-f957-254ffaad2bc3"
      },
      "execution_count": null,
      "outputs": [
        {
          "output_type": "execute_result",
          "data": {
            "text/plain": [
              "           Date    Price     Open     High      Low Vol. Change %\n",
              "0    2010-01-11  44.1190  44.1190  44.1190  44.1190  NaN    0.06%\n",
              "1    2010-01-12  44.1867  44.1867  44.1867  44.1867  NaN    0.15%\n",
              "2    2010-01-13  44.1916  44.1916  44.1916  44.1916  NaN    0.01%\n",
              "3    2010-01-14  44.2292  44.2292  44.2292  44.2292  NaN    0.09%\n",
              "4    2010-01-15  44.2350  44.2350  44.2350  44.2350  NaN    0.01%\n",
              "...         ...      ...      ...      ...      ...  ...      ...\n",
              "3421 2022-12-05  84.4500  84.4771  85.2250  84.2471  NaN    0.00%\n",
              "3422 2022-12-06  84.9156  84.4771  85.4578  84.2522  NaN    0.55%\n",
              "3423 2022-12-07  84.9500  84.9427  85.4750  84.4849  NaN    0.04%\n",
              "3424 2022-12-08  84.9491  84.9771  85.4750  84.5017  NaN    0.00%\n",
              "3425 2022-12-09  84.9500  84.9762  85.4750  84.5017  NaN    0.00%\n",
              "\n",
              "[3426 rows x 7 columns]"
            ],
            "text/html": [
              "\n",
              "  <div id=\"df-c893cb2a-150f-427f-b078-1f72f55b6584\">\n",
              "    <div class=\"colab-df-container\">\n",
              "      <div>\n",
              "<style scoped>\n",
              "    .dataframe tbody tr th:only-of-type {\n",
              "        vertical-align: middle;\n",
              "    }\n",
              "\n",
              "    .dataframe tbody tr th {\n",
              "        vertical-align: top;\n",
              "    }\n",
              "\n",
              "    .dataframe thead th {\n",
              "        text-align: right;\n",
              "    }\n",
              "</style>\n",
              "<table border=\"1\" class=\"dataframe\">\n",
              "  <thead>\n",
              "    <tr style=\"text-align: right;\">\n",
              "      <th></th>\n",
              "      <th>Date</th>\n",
              "      <th>Price</th>\n",
              "      <th>Open</th>\n",
              "      <th>High</th>\n",
              "      <th>Low</th>\n",
              "      <th>Vol.</th>\n",
              "      <th>Change %</th>\n",
              "    </tr>\n",
              "  </thead>\n",
              "  <tbody>\n",
              "    <tr>\n",
              "      <th>0</th>\n",
              "      <td>2010-01-11</td>\n",
              "      <td>44.1190</td>\n",
              "      <td>44.1190</td>\n",
              "      <td>44.1190</td>\n",
              "      <td>44.1190</td>\n",
              "      <td>NaN</td>\n",
              "      <td>0.06%</td>\n",
              "    </tr>\n",
              "    <tr>\n",
              "      <th>1</th>\n",
              "      <td>2010-01-12</td>\n",
              "      <td>44.1867</td>\n",
              "      <td>44.1867</td>\n",
              "      <td>44.1867</td>\n",
              "      <td>44.1867</td>\n",
              "      <td>NaN</td>\n",
              "      <td>0.15%</td>\n",
              "    </tr>\n",
              "    <tr>\n",
              "      <th>2</th>\n",
              "      <td>2010-01-13</td>\n",
              "      <td>44.1916</td>\n",
              "      <td>44.1916</td>\n",
              "      <td>44.1916</td>\n",
              "      <td>44.1916</td>\n",
              "      <td>NaN</td>\n",
              "      <td>0.01%</td>\n",
              "    </tr>\n",
              "    <tr>\n",
              "      <th>3</th>\n",
              "      <td>2010-01-14</td>\n",
              "      <td>44.2292</td>\n",
              "      <td>44.2292</td>\n",
              "      <td>44.2292</td>\n",
              "      <td>44.2292</td>\n",
              "      <td>NaN</td>\n",
              "      <td>0.09%</td>\n",
              "    </tr>\n",
              "    <tr>\n",
              "      <th>4</th>\n",
              "      <td>2010-01-15</td>\n",
              "      <td>44.2350</td>\n",
              "      <td>44.2350</td>\n",
              "      <td>44.2350</td>\n",
              "      <td>44.2350</td>\n",
              "      <td>NaN</td>\n",
              "      <td>0.01%</td>\n",
              "    </tr>\n",
              "    <tr>\n",
              "      <th>...</th>\n",
              "      <td>...</td>\n",
              "      <td>...</td>\n",
              "      <td>...</td>\n",
              "      <td>...</td>\n",
              "      <td>...</td>\n",
              "      <td>...</td>\n",
              "      <td>...</td>\n",
              "    </tr>\n",
              "    <tr>\n",
              "      <th>3421</th>\n",
              "      <td>2022-12-05</td>\n",
              "      <td>84.4500</td>\n",
              "      <td>84.4771</td>\n",
              "      <td>85.2250</td>\n",
              "      <td>84.2471</td>\n",
              "      <td>NaN</td>\n",
              "      <td>0.00%</td>\n",
              "    </tr>\n",
              "    <tr>\n",
              "      <th>3422</th>\n",
              "      <td>2022-12-06</td>\n",
              "      <td>84.9156</td>\n",
              "      <td>84.4771</td>\n",
              "      <td>85.4578</td>\n",
              "      <td>84.2522</td>\n",
              "      <td>NaN</td>\n",
              "      <td>0.55%</td>\n",
              "    </tr>\n",
              "    <tr>\n",
              "      <th>3423</th>\n",
              "      <td>2022-12-07</td>\n",
              "      <td>84.9500</td>\n",
              "      <td>84.9427</td>\n",
              "      <td>85.4750</td>\n",
              "      <td>84.4849</td>\n",
              "      <td>NaN</td>\n",
              "      <td>0.04%</td>\n",
              "    </tr>\n",
              "    <tr>\n",
              "      <th>3424</th>\n",
              "      <td>2022-12-08</td>\n",
              "      <td>84.9491</td>\n",
              "      <td>84.9771</td>\n",
              "      <td>85.4750</td>\n",
              "      <td>84.5017</td>\n",
              "      <td>NaN</td>\n",
              "      <td>0.00%</td>\n",
              "    </tr>\n",
              "    <tr>\n",
              "      <th>3425</th>\n",
              "      <td>2022-12-09</td>\n",
              "      <td>84.9500</td>\n",
              "      <td>84.9762</td>\n",
              "      <td>85.4750</td>\n",
              "      <td>84.5017</td>\n",
              "      <td>NaN</td>\n",
              "      <td>0.00%</td>\n",
              "    </tr>\n",
              "  </tbody>\n",
              "</table>\n",
              "<p>3426 rows × 7 columns</p>\n",
              "</div>\n",
              "      <button class=\"colab-df-convert\" onclick=\"convertToInteractive('df-c893cb2a-150f-427f-b078-1f72f55b6584')\"\n",
              "              title=\"Convert this dataframe to an interactive table.\"\n",
              "              style=\"display:none;\">\n",
              "        \n",
              "  <svg xmlns=\"http://www.w3.org/2000/svg\" height=\"24px\"viewBox=\"0 0 24 24\"\n",
              "       width=\"24px\">\n",
              "    <path d=\"M0 0h24v24H0V0z\" fill=\"none\"/>\n",
              "    <path d=\"M18.56 5.44l.94 2.06.94-2.06 2.06-.94-2.06-.94-.94-2.06-.94 2.06-2.06.94zm-11 1L8.5 8.5l.94-2.06 2.06-.94-2.06-.94L8.5 2.5l-.94 2.06-2.06.94zm10 10l.94 2.06.94-2.06 2.06-.94-2.06-.94-.94-2.06-.94 2.06-2.06.94z\"/><path d=\"M17.41 7.96l-1.37-1.37c-.4-.4-.92-.59-1.43-.59-.52 0-1.04.2-1.43.59L10.3 9.45l-7.72 7.72c-.78.78-.78 2.05 0 2.83L4 21.41c.39.39.9.59 1.41.59.51 0 1.02-.2 1.41-.59l7.78-7.78 2.81-2.81c.8-.78.8-2.07 0-2.86zM5.41 20L4 18.59l7.72-7.72 1.47 1.35L5.41 20z\"/>\n",
              "  </svg>\n",
              "      </button>\n",
              "      \n",
              "  <style>\n",
              "    .colab-df-container {\n",
              "      display:flex;\n",
              "      flex-wrap:wrap;\n",
              "      gap: 12px;\n",
              "    }\n",
              "\n",
              "    .colab-df-convert {\n",
              "      background-color: #E8F0FE;\n",
              "      border: none;\n",
              "      border-radius: 50%;\n",
              "      cursor: pointer;\n",
              "      display: none;\n",
              "      fill: #1967D2;\n",
              "      height: 32px;\n",
              "      padding: 0 0 0 0;\n",
              "      width: 32px;\n",
              "    }\n",
              "\n",
              "    .colab-df-convert:hover {\n",
              "      background-color: #E2EBFA;\n",
              "      box-shadow: 0px 1px 2px rgba(60, 64, 67, 0.3), 0px 1px 3px 1px rgba(60, 64, 67, 0.15);\n",
              "      fill: #174EA6;\n",
              "    }\n",
              "\n",
              "    [theme=dark] .colab-df-convert {\n",
              "      background-color: #3B4455;\n",
              "      fill: #D2E3FC;\n",
              "    }\n",
              "\n",
              "    [theme=dark] .colab-df-convert:hover {\n",
              "      background-color: #434B5C;\n",
              "      box-shadow: 0px 1px 3px 1px rgba(0, 0, 0, 0.15);\n",
              "      filter: drop-shadow(0px 1px 2px rgba(0, 0, 0, 0.3));\n",
              "      fill: #FFFFFF;\n",
              "    }\n",
              "  </style>\n",
              "\n",
              "      <script>\n",
              "        const buttonEl =\n",
              "          document.querySelector('#df-c893cb2a-150f-427f-b078-1f72f55b6584 button.colab-df-convert');\n",
              "        buttonEl.style.display =\n",
              "          google.colab.kernel.accessAllowed ? 'block' : 'none';\n",
              "\n",
              "        async function convertToInteractive(key) {\n",
              "          const element = document.querySelector('#df-c893cb2a-150f-427f-b078-1f72f55b6584');\n",
              "          const dataTable =\n",
              "            await google.colab.kernel.invokeFunction('convertToInteractive',\n",
              "                                                     [key], {});\n",
              "          if (!dataTable) return;\n",
              "\n",
              "          const docLinkHtml = 'Like what you see? Visit the ' +\n",
              "            '<a target=\"_blank\" href=https://colab.research.google.com/notebooks/data_table.ipynb>data table notebook</a>'\n",
              "            + ' to learn more about interactive tables.';\n",
              "          element.innerHTML = '';\n",
              "          dataTable['output_type'] = 'display_data';\n",
              "          await google.colab.output.renderOutput(dataTable, element);\n",
              "          const docLink = document.createElement('div');\n",
              "          docLink.innerHTML = docLinkHtml;\n",
              "          element.appendChild(docLink);\n",
              "        }\n",
              "      </script>\n",
              "    </div>\n",
              "  </div>\n",
              "  "
            ]
          },
          "metadata": {},
          "execution_count": 5
        }
      ]
    },
    {
      "cell_type": "code",
      "source": [
        "f = plt.figure()\n",
        "f.set_figwidth(20)\n",
        "f.set_figheight(7)\n",
        "plt.title('All Data')\n",
        "plt.xlabel('Date', fontsize = 18)\n",
        "plt.ylabel('Price',fontsize = 18)\n",
        "plt.plot(df1.get(\"Date\"), df1.get(\"Price\"), 'r-')\n",
        "plt.show()"
      ],
      "metadata": {
        "id": "yyD5QyOicuF0",
        "colab": {
          "base_uri": "https://localhost:8080/",
          "height": 477
        },
        "outputId": "62060f2a-6997-4fb4-b308-36907d662355"
      },
      "execution_count": null,
      "outputs": [
        {
          "output_type": "display_data",
          "data": {
            "text/plain": [
              "<Figure size 1440x504 with 1 Axes>"
            ],
            "image/png": "[encoded data removed]"
          },
          "metadata": {}
        }
      ]
    },
    {
      "cell_type": "code",
      "source": [
        "f = plt.figure()\n",
        "f.set_figwidth(20)\n",
        "f.set_figheight(7)\n",
        "plt.title('Train Data')\n",
        "plt.xlabel('Date', fontsize = 18)\n",
        "plt.ylabel('Price',fontsize = 18)\n",
        "prev_years = df1[df1[\"Date\"]< \t\"2020-01-15\"\t]\n",
        "plt.plot(prev_years.get(\"Date\"), prev_years.get(\"Price\"))\n",
        "plt.show()"
      ],
      "metadata": {
        "colab": {
          "base_uri": "https://localhost:8080/",
          "height": 480
        },
        "id": "3QMzKPVEg7gC",
        "outputId": "33c1bfce-701d-4c32-a624-f6ac60c15ab4"
      },
      "execution_count": null,
      "outputs": [
        {
          "output_type": "display_data",
          "data": {
            "text/plain": [
              "<Figure size 1440x504 with 1 Axes>"
            ],
            "image/png": "[encoded data removed]"
          },
          "metadata": {}
        }
      ]
    },
    {
      "cell_type": "code",
      "source": [
        "data = df1.loc[:,[\"Price\"]] #loc - индекс, который используется чтобы тип данных остался dataframe, a не np.array, чтобы сохранить индексацию"
      ],
      "metadata": {
        "id": "c2zc9RmHZIa1"
      },
      "execution_count": null,
      "outputs": []
    },
    {
      "cell_type": "code",
      "source": [
        "df1.loc[:,[\"Price\"]]"
      ],
      "metadata": {
        "colab": {
          "base_uri": "https://localhost:8080/",
          "height": 423
        },
        "id": "-wqisHDmjVS3",
        "outputId": "8f6a9dc6-7262-4083-f8b7-f75654b51289"
      },
      "execution_count": null,
      "outputs": [
        {
          "output_type": "execute_result",
          "data": {
            "text/plain": [
              "        Price\n",
              "0     44.1190\n",
              "1     44.1867\n",
              "2     44.1916\n",
              "3     44.2292\n",
              "4     44.2350\n",
              "...       ...\n",
              "3421  84.4500\n",
              "3422  84.9156\n",
              "3423  84.9500\n",
              "3424  84.9491\n",
              "3425  84.9500\n",
              "\n",
              "[3426 rows x 1 columns]"
            ],
            "text/html": [
              "\n",
              "  <div id=\"df-639d4e57-2b95-4f24-ab1f-7863e5641c5a\">\n",
              "    <div class=\"colab-df-container\">\n",
              "      <div>\n",
              "<style scoped>\n",
              "    .dataframe tbody tr th:only-of-type {\n",
              "        vertical-align: middle;\n",
              "    }\n",
              "\n",
              "    .dataframe tbody tr th {\n",
              "        vertical-align: top;\n",
              "    }\n",
              "\n",
              "    .dataframe thead th {\n",
              "        text-align: right;\n",
              "    }\n",
              "</style>\n",
              "<table border=\"1\" class=\"dataframe\">\n",
              "  <thead>\n",
              "    <tr style=\"text-align: right;\">\n",
              "      <th></th>\n",
              "      <th>Price</th>\n",
              "    </tr>\n",
              "  </thead>\n",
              "  <tbody>\n",
              "    <tr>\n",
              "      <th>0</th>\n",
              "      <td>44.1190</td>\n",
              "    </tr>\n",
              "    <tr>\n",
              "      <th>1</th>\n",
              "      <td>44.1867</td>\n",
              "    </tr>\n",
              "    <tr>\n",
              "      <th>2</th>\n",
              "      <td>44.1916</td>\n",
              "    </tr>\n",
              "    <tr>\n",
              "      <th>3</th>\n",
              "      <td>44.2292</td>\n",
              "    </tr>\n",
              "    <tr>\n",
              "      <th>4</th>\n",
              "      <td>44.2350</td>\n",
              "    </tr>\n",
              "    <tr>\n",
              "      <th>...</th>\n",
              "      <td>...</td>\n",
              "    </tr>\n",
              "    <tr>\n",
              "      <th>3421</th>\n",
              "      <td>84.4500</td>\n",
              "    </tr>\n",
              "    <tr>\n",
              "      <th>3422</th>\n",
              "      <td>84.9156</td>\n",
              "    </tr>\n",
              "    <tr>\n",
              "      <th>3423</th>\n",
              "      <td>84.9500</td>\n",
              "    </tr>\n",
              "    <tr>\n",
              "      <th>3424</th>\n",
              "      <td>84.9491</td>\n",
              "    </tr>\n",
              "    <tr>\n",
              "      <th>3425</th>\n",
              "      <td>84.9500</td>\n",
              "    </tr>\n",
              "  </tbody>\n",
              "</table>\n",
              "<p>3426 rows × 1 columns</p>\n",
              "</div>\n",
              "      <button class=\"colab-df-convert\" onclick=\"convertToInteractive('df-639d4e57-2b95-4f24-ab1f-7863e5641c5a')\"\n",
              "              title=\"Convert this dataframe to an interactive table.\"\n",
              "              style=\"display:none;\">\n",
              "        \n",
              "  <svg xmlns=\"http://www.w3.org/2000/svg\" height=\"24px\"viewBox=\"0 0 24 24\"\n",
              "       width=\"24px\">\n",
              "    <path d=\"M0 0h24v24H0V0z\" fill=\"none\"/>\n",
              "    <path d=\"M18.56 5.44l.94 2.06.94-2.06 2.06-.94-2.06-.94-.94-2.06-.94 2.06-2.06.94zm-11 1L8.5 8.5l.94-2.06 2.06-.94-2.06-.94L8.5 2.5l-.94 2.06-2.06.94zm10 10l.94 2.06.94-2.06 2.06-.94-2.06-.94-.94-2.06-.94 2.06-2.06.94z\"/><path d=\"M17.41 7.96l-1.37-1.37c-.4-.4-.92-.59-1.43-.59-.52 0-1.04.2-1.43.59L10.3 9.45l-7.72 7.72c-.78.78-.78 2.05 0 2.83L4 21.41c.39.39.9.59 1.41.59.51 0 1.02-.2 1.41-.59l7.78-7.78 2.81-2.81c.8-.78.8-2.07 0-2.86zM5.41 20L4 18.59l7.72-7.72 1.47 1.35L5.41 20z\"/>\n",
              "  </svg>\n",
              "      </button>\n",
              "      \n",
              "  <style>\n",
              "    .colab-df-container {\n",
              "      display:flex;\n",
              "      flex-wrap:wrap;\n",
              "      gap: 12px;\n",
              "    }\n",
              "\n",
              "    .colab-df-convert {\n",
              "      background-color: #E8F0FE;\n",
              "      border: none;\n",
              "      border-radius: 50%;\n",
              "      cursor: pointer;\n",
              "      display: none;\n",
              "      fill: #1967D2;\n",
              "      height: 32px;\n",
              "      padding: 0 0 0 0;\n",
              "      width: 32px;\n",
              "    }\n",
              "\n",
              "    .colab-df-convert:hover {\n",
              "      background-color: #E2EBFA;\n",
              "      box-shadow: 0px 1px 2px rgba(60, 64, 67, 0.3), 0px 1px 3px 1px rgba(60, 64, 67, 0.15);\n",
              "      fill: #174EA6;\n",
              "    }\n",
              "\n",
              "    [theme=dark] .colab-df-convert {\n",
              "      background-color: #3B4455;\n",
              "      fill: #D2E3FC;\n",
              "    }\n",
              "\n",
              "    [theme=dark] .colab-df-convert:hover {\n",
              "      background-color: #434B5C;\n",
              "      box-shadow: 0px 1px 3px 1px rgba(0, 0, 0, 0.15);\n",
              "      filter: drop-shadow(0px 1px 2px rgba(0, 0, 0, 0.3));\n",
              "      fill: #FFFFFF;\n",
              "    }\n",
              "  </style>\n",
              "\n",
              "      <script>\n",
              "        const buttonEl =\n",
              "          document.querySelector('#df-639d4e57-2b95-4f24-ab1f-7863e5641c5a button.colab-df-convert');\n",
              "        buttonEl.style.display =\n",
              "          google.colab.kernel.accessAllowed ? 'block' : 'none';\n",
              "\n",
              "        async function convertToInteractive(key) {\n",
              "          const element = document.querySelector('#df-639d4e57-2b95-4f24-ab1f-7863e5641c5a');\n",
              "          const dataTable =\n",
              "            await google.colab.kernel.invokeFunction('convertToInteractive',\n",
              "                                                     [key], {});\n",
              "          if (!dataTable) return;\n",
              "\n",
              "          const docLinkHtml = 'Like what you see? Visit the ' +\n",
              "            '<a target=\"_blank\" href=https://colab.research.google.com/notebooks/data_table.ipynb>data table notebook</a>'\n",
              "            + ' to learn more about interactive tables.';\n",
              "          element.innerHTML = '';\n",
              "          dataTable['output_type'] = 'display_data';\n",
              "          await google.colab.output.renderOutput(dataTable, element);\n",
              "          const docLink = document.createElement('div');\n",
              "          docLink.innerHTML = docLinkHtml;\n",
              "          element.appendChild(docLink);\n",
              "        }\n",
              "      </script>\n",
              "    </div>\n",
              "  </div>\n",
              "  "
            ]
          },
          "metadata": {},
          "execution_count": 9
        }
      ]
    },
    {
      "cell_type": "code",
      "source": [
        "training_data_len = math.ceil(len(data) * .8) # each row is a sample, len(data) is an amount of samples (days) multiplied to 0.8 чтобы 80% пошло на обучение \n",
        "training_data_len"
      ],
      "metadata": {
        "colab": {
          "base_uri": "https://localhost:8080/"
        },
        "id": "LDXNnWh7jayc",
        "outputId": "2b945a75-a66f-4824-fb99-8e03bfa00293"
      },
      "execution_count": null,
      "outputs": [
        {
          "output_type": "execute_result",
          "data": {
            "text/plain": [
              "2741"
            ]
          },
          "metadata": {},
          "execution_count": 10
        }
      ]
    },
    {
      "cell_type": "code",
      "source": [
        "scaler = MinMaxScaler(feature_range=(0,1)) #normalisation\n",
        "scaled_data = scaler.fit_transform(data) \n",
        "\n",
        "scaled_data"
      ],
      "metadata": {
        "colab": {
          "base_uri": "https://localhost:8080/"
        },
        "id": "Y5qYV53gjm4K",
        "outputId": "fb7a62ed-278a-49c0-8aec-50bb12679d23"
      },
      "execution_count": null,
      "outputs": [
        {
          "output_type": "execute_result",
          "data": {
            "text/plain": [
              "array([[0.        ],\n",
              "       [0.00111201],\n",
              "       [0.00119249],\n",
              "       ...,\n",
              "       [0.67066901],\n",
              "       [0.67065423],\n",
              "       [0.67066901]])"
            ]
          },
          "metadata": {},
          "execution_count": 11
        }
      ]
    },
    {
      "cell_type": "code",
      "source": [
        "f = plt.figure()\n",
        "f.set_figwidth(20)\n",
        "f.set_figheight(7)\n",
        "plt.title('Scaled')\n",
        "plt.xlabel('Index', fontsize = 18)\n",
        "plt.plot(scaled_data)"
      ],
      "metadata": {
        "colab": {
          "base_uri": "https://localhost:8080/",
          "height": 504
        },
        "id": "2nBSF7ufjq0x",
        "outputId": "b433f756-498c-4b16-9839-929eb0a36ec0"
      },
      "execution_count": null,
      "outputs": [
        {
          "output_type": "execute_result",
          "data": {
            "text/plain": [
              "[<matplotlib.lines.Line2D at 0x7f75afd8edc0>]"
            ]
          },
          "metadata": {},
          "execution_count": 12
        },
        {
          "output_type": "display_data",
          "data": {
            "text/plain": [
              "<Figure size 1440x504 with 1 Axes>"
            ],
            "image/png": "[encoded data removed]"
          },
          "metadata": {}
        }
      ]
    },
    {
      "cell_type": "code",
      "source": [
        "# Создаем датасет для обучения\n",
        "train_data = scaled_data[0:training_data_len] #с 0 по 2741 (срез тренировачных данных)\n",
        "# разбиваем на x underscore (независимые данные, то что получает наша нейронка) train и y underscore (зависимые данные, то что возвращается) train \n",
        "x_train = []\n",
        "y_train = []\n",
        "\n",
        "for i in range(60, len(train_data)): #60 строчек данных\n",
        "    x_train.append(train_data[i-60:i]) #c i-60 индекса до i \n",
        "    y_train.append(train_data[i])"
      ],
      "metadata": {
        "id": "w1v310FXkW1_"
      },
      "execution_count": null,
      "outputs": []
    },
    {
      "cell_type": "code",
      "source": [
        "#Конвертируем x_train и y_train в нумпаевский массив\n",
        "x_train, y_train = np.array(x_train), np.array(y_train)"
      ],
      "metadata": {
        "id": "pNoEfd8ukz-G"
      },
      "execution_count": null,
      "outputs": []
    },
    {
      "cell_type": "code",
      "source": [
        "#Reshape data\n",
        "x_train = np.reshape(x_train, (x_train.shape[0],x_train.shape[1],x_train.shape[2]))"
      ],
      "metadata": {
        "id": "gaToED8Fk4Aj"
      },
      "execution_count": null,
      "outputs": []
    },
    {
      "cell_type": "code",
      "source": [
        "#Строим нейронку\n",
        "model = Sequential() #пустая модель, которая будет заполнятся слоями\n",
        "model.add(LSTM(50,return_sequences = True, input_shape = (x_train.shape[1],x_train.shape[2]))) #50 - количество нейронов в одном слое\n",
        "model.add(LSTM(50,return_sequences = False)) #50 - количество нейронов в одном слое \n",
        "model.add(Dense(25))\n",
        "model.add(Dense(1)) #our answer "
      ],
      "metadata": {
        "id": "0Z9s7OKulAhQ"
      },
      "execution_count": null,
      "outputs": []
    },
    {
      "cell_type": "code",
      "source": [
        "#Компилируем модель\n",
        "model.compile(optimizer='adam',loss = 'mean_squared_error') \n"
      ],
      "metadata": {
        "id": "iSpX2sH0lELZ"
      },
      "execution_count": null,
      "outputs": []
    },
    {
      "cell_type": "markdown",
      "source": [
        "adam - улучшенный способ обучения (модификация градиентного спуска) но не очень понятно как работает. loss - то что нужно оптимизировать (минимизировать)"
      ],
      "metadata": {
        "id": "1vQOojbi69ET"
      }
    },
    {
      "cell_type": "code",
      "source": [
        "#Тренируем модель\n",
        "model.fit(x_train,y_train,batch_size = 1, epochs = 10)"
      ],
      "metadata": {
        "colab": {
          "base_uri": "https://localhost:8080/"
        },
        "id": "kI04qA8fl3H5",
        "outputId": "ce3ddb8a-5001-4a37-8d63-309fac1458ee"
      },
      "execution_count": null,
      "outputs": [
        {
          "output_type": "error",
          "ename": "NameError",
          "evalue": "ignored",
          "traceback": [
            "\u001b[0;31m---------------------------------------------------------------------------\u001b[0m",
            "\u001b[0;31mNameError\u001b[0m                                 Traceback (most recent call last)",
            "\u001b[0;32m<ipython-input-1-1df2e2eb642e>\u001b[0m in \u001b[0;36m<module>\u001b[0;34m\u001b[0m\n\u001b[1;32m      1\u001b[0m \u001b[0;31m#Тренируем модель\u001b[0m\u001b[0;34m\u001b[0m\u001b[0;34m\u001b[0m\u001b[0;34m\u001b[0m\u001b[0m\n\u001b[0;32m----> 2\u001b[0;31m \u001b[0mmodel\u001b[0m\u001b[0;34m.\u001b[0m\u001b[0mfit\u001b[0m\u001b[0;34m(\u001b[0m\u001b[0mx_train\u001b[0m\u001b[0;34m,\u001b[0m\u001b[0my_train\u001b[0m\u001b[0;34m,\u001b[0m\u001b[0mbatch_size\u001b[0m \u001b[0;34m=\u001b[0m \u001b[0;36m1\u001b[0m\u001b[0;34m,\u001b[0m \u001b[0mepochs\u001b[0m \u001b[0;34m=\u001b[0m \u001b[0;36m10\u001b[0m\u001b[0;34m)\u001b[0m\u001b[0;34m\u001b[0m\u001b[0;34m\u001b[0m\u001b[0m\n\u001b[0m",
            "\u001b[0;31mNameError\u001b[0m: name 'model' is not defined"
          ]
        }
      ]
    },
    {
      "cell_type": "code",
      "source": [
        "#Создаем тестовый датасет\n",
        "test_data = scaled_data[training_data_len - 60:]\n",
        "#по аналогии создаем x_test и y_test \n",
        "x_test = []\n",
        "y_test = data[training_data_len:]\n",
        "for i in range(60,len(test_data)):\n",
        "    x_test.append(test_data[i-60:i])"
      ],
      "metadata": {
        "id": "y3EoJxjfl5cy"
      },
      "execution_count": null,
      "outputs": []
    },
    {
      "cell_type": "code",
      "source": [
        "#опять преобразуем в нумпаевский массив. Это намного быстрее и можно делать крутые штуки махинации с векторами (скалярное произведение и тд)\n",
        "x_test = np.array(x_test)"
      ],
      "metadata": {
        "id": "Zxx8mBEHSA-O"
      },
      "execution_count": null,
      "outputs": []
    },
    {
      "cell_type": "code",
      "source": [
        "#опять делаем reshape, чтобы он был правильной формы, в нашем случае 60 и 1 (плюс количество тестовых samples)\n",
        "x_test = np.reshape(x_test,(x_test.shape[0],x_test.shape[1],x_test.shape[2]))"
      ],
      "metadata": {
        "id": "I3Nm1J3RaSWs"
      },
      "execution_count": null,
      "outputs": []
    },
    {
      "cell_type": "code",
      "source": [
        "x_test.shape"
      ],
      "metadata": {
        "id": "Dxu6nx4hdFQf"
      },
      "execution_count": null,
      "outputs": []
    },
    {
      "cell_type": "code",
      "source": [
        "#Получаем модель предсказывающую значения\n",
        "predictions = model.predict(x_test) #просим модельку предсказать (ну, как просим - приказываем)\n",
        "predictions = scaler.inverse_transform(predictions)"
      ],
      "metadata": {
        "id": "iqCZ4xnKaVBo"
      },
      "execution_count": null,
      "outputs": []
    },
    {
      "cell_type": "code",
      "source": [
        "#Получим mean squared error (RMSE) - метод наименьших квадратов. через него узнаем, насколько сильно ошибаемся\n",
        "#функция ошибки\n",
        "rmse =np.sqrt(np.mean((predictions-y_test)**2)) #ошибка это предсказываемые данные минус реальных, далее возводим в квадрат, после находим среднее, а потом всё под корень\n",
        "rmse"
      ],
      "metadata": {
        "id": "ZfAlpW4kdUM2"
      },
      "execution_count": null,
      "outputs": []
    },
    {
      "cell_type": "code",
      "source": [
        "#Строим график\n",
        "train = data[:training_data_len]\n",
        "valid = data[training_data_len:]\n",
        "valid['Predictions'] = predictions\n",
        "\n",
        "\n",
        "#Визуализируем\n",
        "plt.figure(figsize=(16,8))\n",
        "plt.title('Model LSTM')\n",
        "plt.xlabel('Date', fontsize = 18)\n",
        "plt.ylabel('Price',fontsize = 18)\n",
        "plt.plot(train)\n",
        "plt.plot(valid[['Price','Predictions']])\n",
        "plt.legend(['Train','Actual','Predicted'], loc = 'lower right')\n",
        "plt.show()"
      ],
      "metadata": {
        "id": "h2mBNdkedbDn"
      },
      "execution_count": null,
      "outputs": []
    },
    {
      "cell_type": "code",
      "source": [
        "valid"
      ],
      "metadata": {
        "id": "yHzXzmPmeHV_"
      },
      "execution_count": null,
      "outputs": []
    },
    {
      "cell_type": "code",
      "source": [
        "valid[\"Date\"] = df1.loc[training_data_len:,[\"Date\"]]\n",
        "valid"
      ],
      "metadata": {
        "id": "oQhfBVLcA9Fu"
      },
      "execution_count": null,
      "outputs": []
    },
    {
      "cell_type": "code",
      "source": [
        "train[\"Date\"] = df1.loc[:training_data_len,[\"Date\"]]"
      ],
      "metadata": {
        "id": "ZgM4UCvQBjzK"
      },
      "execution_count": null,
      "outputs": []
    },
    {
      "cell_type": "code",
      "source": [
        "train"
      ],
      "metadata": {
        "id": "IFPB9pP5DCGm"
      },
      "execution_count": null,
      "outputs": []
    },
    {
      "cell_type": "code",
      "source": [
        "valid"
      ],
      "metadata": {
        "id": "VTEIZy4hE-Ip"
      },
      "execution_count": null,
      "outputs": []
    },
    {
      "cell_type": "code",
      "source": [
        "\n",
        "#Визуализируем\n",
        "plt.figure(figsize=(16,8))\n",
        "plt.title('Model LSTM')\n",
        "plt.xlabel('Date', fontsize = 18)\n",
        "plt.ylabel('Price',fontsize = 18)\n",
        "plt.plot(train[\"Date\"], train[\"Price\"])\n",
        "plt.plot(valid[\"Date\"],valid[['Price','Predictions']])\n",
        "plt.legend(['Train','Actual','Predicted'], loc = 'lower right')\n",
        "plt.show()"
      ],
      "metadata": {
        "id": "Tte50eEODPZU"
      },
      "execution_count": null,
      "outputs": []
    },
    {
      "cell_type": "code",
      "source": [],
      "metadata": {
        "id": "oAsKxDtbERoG"
      },
      "execution_count": null,
      "outputs": []
    },
    {
      "cell_type": "code",
      "source": [],
      "metadata": {
        "id": "Li7Ub-m-n4Xv"
      },
      "execution_count": null,
      "outputs": []
    }
  ]
}